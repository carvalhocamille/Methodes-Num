{
 "cells": [
  {
   "attachments": {
    "insa.jpg": {
     "image/jpeg": "[encoded data removed]"
    }
   },
   "cell_type": "markdown",
   "id": "4751ccb4",
   "metadata": {},
   "source": [
    "![insa.jpg](attachment:insa.jpg)\n",
    "# P2I7: Chapitre 7 méthodes numériques\n",
    "## Schémas aux différences finies pour les problèmes paraboliques (1D)\n",
    "Camille Carvalho (INSA/ICJ)"
   ]
  },
  {
   "cell_type": "code",
   "execution_count": 5,
   "id": "868582eb",
   "metadata": {},
   "outputs": [],
   "source": [
    "#libraries to import\n",
    "%matplotlib inline\n",
    "from matplotlib import pyplot as plt\n",
    "import numpy as np\n",
    "import sympy as sp"
   ]
  },
  {
   "attachments": {
    "sourceterm.png": {
     "image/png": "[encoded data removed]"
    }
   },
   "cell_type": "markdown",
   "id": "48b6d610",
   "metadata": {},
   "source": [
    "## Section 7.3 : Application en thermique\n",
    "\n",
    "On cherche maintenant à connaître la température $T(t,x)$ dans une poutre de température initiale $T^0 = 30^{\\circ}C$, qui reste à température $T^0$ sur l'extremité gauche, et soumise à une source de chaleur $f(x)$ :\n",
    "\n",
    "![sourceterm.png](attachment:sourceterm.png)\n",
    "\n",
    "On résout l'équation de la chaleur dans la poutre pour $0 < x < 1$m et pour $0 \\le t \\le 1\\mbox{s}$ :\n",
    "$$ \\frac{\\partial T}{\\partial t} - D \\frac{\\partial^2 T}{\\partial x^2} = f(x), $$\n",
    "avec les conditions aux limites \n",
    "$$ T(t,0) = 30^{\\circ}C, \\quad \\frac{\\partial T}{\\partial x}(t, 1) = 10^{\\circ}\\mbox{C/m}, $$\n",
    "et la condition initiale\n",
    "$$ T(0,x) = 30^{\\circ}\\mbox{C}. $$\n",
    "Le coefficient de diffusivité est pris égal à $D = 1~\\mbox{m}^2/\\mbox{s}$. \n",
    "\n",
    "**Question 1.** Appliquer le schéma d'Euler explicite à ce problème."
   ]
  },
  {
   "cell_type": "code",
   "execution_count": 6,
   "id": "e7ca8b30",
   "metadata": {},
   "outputs": [],
   "source": [
    "# On fait appel aux codes créés prédemment\n",
    "from numpy import linalg as la\n",
    "def difference_finies_theta_schema(D, T0, T1, L, f, M, a, b, N, U0, θ):\n",
    "    '''\n",
    "    function that approximates the PDE du/dt -D *d2/dx2 = f, u(t,0) = T0, du/dx(t,1) = T1\n",
    "    a < t < b, using a θ-schema\n",
    "    \n",
    "    Parameters\n",
    "    ==========\n",
    "    D: float number, diffusion parameter\n",
    "    T0: float number, boundary parameter \n",
    "    T1: float number,  boundary parameter\n",
    "    L: float number, upper bound space interval\n",
    "    M: integer, number of space subintervals\n",
    "    a: float number, lower bound time interval\n",
    "    b: float number, upper bound time interval\n",
    "    N: integer, number of time subintervals\n",
    "    U0: float number, initial condition\n",
    "    θ: float number, type of θ schema\n",
    "    \n",
    "    Returns\n",
    "    =======\n",
    "    The sampled time t, as an array of values\n",
    "    The sampled space x, as an array of values\n",
    "    The solution u, as a matrix of values\n",
    "    '''    \n",
    "    \n",
    "    #discretization of space and time\n",
    "    dx = L/(M-1)\n",
    "    x = [i * dx for i in range(M)]\n",
    "    Δt = (b-a)/ (N-1)\n",
    "    t = [a + i * Δt for i in range(N)]\n",
    "    \n",
    "    #Step 1: create spatial discretization of the system leading to u'= B-Au\n",
    "    F = [f(p) for p in x]\n",
    "    A = np.zeros((M,M))\n",
    "    B = np.zeros((M,1))\n",
    "    for i in range (1, M-1): \n",
    "        A[i,i]=2/dx**2;\n",
    "        A[i,i-1]=-1/dx**2;\n",
    "        A[i,i+1]=-1/dx**2;\n",
    "        B[i] = F[i]\n",
    "    A[0,0] = 1\n",
    "    A[M-1,M-2] = -2/dx**2\n",
    "    A[M-1,M-1] = 2/dx**2\n",
    "    A = A*D\n",
    "    B[0] = T0\n",
    "    B[M-1] = F[M-1]+ 2*T1/dx\n",
    "    \n",
    "    #Step 2: time discretization of the system via a θ-scheme\n",
    "    u = np.zeros((M, N))\n",
    "    u[:, 0:1] = U0*np.ones((M,1))\n",
    "    C = np.eye(M) + Δt * θ * A\n",
    "    E = np.eye(M) - Δt * (1. - θ) * A\n",
    "    inv_C = la.inv(C)\n",
    "    for i in range(1, N+1):\n",
    "        u[:, i:i+1] = inv_C@(Δt*B + E@u[:, i-1:i])\n",
    "    return x, t, u"
   ]
  },
  {
   "cell_type": "code",
   "execution_count": 11,
   "id": "aa33fcdd",
   "metadata": {},
   "outputs": [],
   "source": [
    "# Paramètres\n",
    "D = 1\n",
    "T0 = 30\n",
    "T1 = 30\n",
    "f = lambda x: 10*(np.sin(np.pi*x))**2\n",
    "L = 1\n",
    "U0 = 30\n",
    "a = 0\n",
    "b = 10\n",
    "M = 20\n",
    "N = 100\n",
    "T = 10\n",
    "θ = 0.5\n",
    "x, t, u = difference_finies_theta_schema(D, T0, T1, L, f, M, a, b, N, U0, θ)"
   ]
  },
  {
   "cell_type": "markdown",
   "id": "f59a0b5a",
   "metadata": {},
   "source": [
    "Petit code pour animer la solution au cours de temps "
   ]
  },
  {
   "cell_type": "code",
   "execution_count": 12,
   "id": "e3ec0439",
   "metadata": {},
   "outputs": [
    {
     "data": {
      "image/png": "[encoded data removed]",
      "text/plain": [
       "<Figure size 504x360 with 1 Axes>"
      ]
     },
     "metadata": {
      "needs_background": "light"
     },
     "output_type": "display_data"
    }
   ],
   "source": [
    "from IPython.display import clear_output\n",
    "\n",
    "def live_plot(x, u, i, figsize=(7,5)):\n",
    "    clear_output(wait=True)\n",
    "    \n",
    "    plt.figure(figsize=figsize)    \n",
    "    plt.xlim(0, L)\n",
    "    plt.plot(x, u[:,i:i+1])\n",
    "    plt.title(f'Solution à t= {t[i]}')\n",
    "    plt.grid(True)\n",
    "    plt.ylim(0, 100)\n",
    "    plt.xlabel('x (m)')\n",
    "    plt.ylabel('u (m)')\n",
    "    plt.show()  \n",
    "    \n",
    "for i in range(0, N):\n",
    "    live_plot(x, u, i)"
   ]
  },
  {
   "cell_type": "markdown",
   "id": "395bbe9f",
   "metadata": {},
   "source": [
    "**Question 2.** Ecrire un programme Python qui calculera, pas de temps par pas detemps, l'évolution de la température dans le barreau jusqu'au temps final (1s)."
   ]
  },
  {
   "cell_type": "code",
   "execution_count": null,
   "id": "ba6a8c21",
   "metadata": {},
   "outputs": [],
   "source": [
    "#voir ci-dessus"
   ]
  },
  {
   "cell_type": "markdown",
   "id": "1275923f",
   "metadata": {},
   "source": [
    "**Question 3.** Résoudre tout d'abord avec un pas de temps\n",
    "$\\Delta t = 0,01$s et un pas d'espace $h = 0,2$m"
   ]
  },
  {
   "cell_type": "code",
   "execution_count": null,
   "id": "d9c363d7",
   "metadata": {},
   "outputs": [],
   "source": [
    "#voir ci-dessus avec N = 100, M = 20\n",
    "#x, t, u = difference_finies_theta_schema(1, 30, 10, 1, f, 20, 0, 1, 100, U0, 0)"
   ]
  },
  {
   "cell_type": "markdown",
   "id": "4104e23f",
   "metadata": {},
   "source": [
    "**Question 4.** Pour plus de précision en espace, on décide de raffiner :\n",
    "  $\\Delta t = 0,01$s et $h = 0,02$m. Que se passe-t-il ?\n",
    " Pourquoi : est-ce un problème de consistance (précision) ? de stabilité ?"
   ]
  },
  {
   "cell_type": "code",
   "execution_count": null,
   "id": "bdcac23b",
   "metadata": {},
   "outputs": [],
   "source": [
    "#voir ci-dessus avec N = 100, M = 200\n",
    "#x, t, u = difference_finies_theta_schema(1, 30, 10, 1, f, 200, 0, 1, 100, U0, 0)"
   ]
  },
  {
   "cell_type": "markdown",
   "id": "e9cbddcd",
   "metadata": {},
   "source": [
    "**Question 5.** Transformer le programme précédent pour implémenter une résolution\n",
    "avec le schéma d'Euler implicite. Tester pour\n",
    "différents pas de temps et d'espace, Commentez."
   ]
  },
  {
   "cell_type": "code",
   "execution_count": null,
   "id": "389e0296",
   "metadata": {},
   "outputs": [],
   "source": [
    "#voir ci-dessus avec θ = 1\n",
    "#x, t, u = difference_finies_theta_schema(1, 30, 10, 1, f, 20, 0, 1, 100, U0, 1)"
   ]
  },
  {
   "cell_type": "markdown",
   "id": "3a1d7806",
   "metadata": {},
   "source": [
    "**Question 6.** Transformer le programme précédent pour implémenter une résolution\n",
    "avec le schéma de Crank-Nicolson. Tester pour différents pas de temps\n",
    "et d'espace, Commentez."
   ]
  },
  {
   "cell_type": "code",
   "execution_count": null,
   "id": "85e46485",
   "metadata": {},
   "outputs": [],
   "source": [
    "#voir ci-dessus avec θ = 1/2\n",
    "#x, t, u = difference_finies_theta_schema(1, 30, 10, 1, f, 20, 0, 1, 100, U0, 1/2)"
   ]
  }
 ],
 "metadata": {
  "kernelspec": {
   "display_name": "Python 3 (ipykernel)",
   "language": "python",
   "name": "python3"
  },
  "language_info": {
   "codemirror_mode": {
    "name": "ipython",
    "version": 3
   },
   "file_extension": ".py",
   "mimetype": "text/x-python",
   "name": "python",
   "nbconvert_exporter": "python",
   "pygments_lexer": "ipython3",
   "version": "3.9.10"
  }
 },
 "nbformat": 4,
 "nbformat_minor": 5
}
