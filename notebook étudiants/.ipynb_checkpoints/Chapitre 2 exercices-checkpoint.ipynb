{
 "cells": [
  {
   "attachments": {
    "insa.jpg": {
     "image/jpeg": "[encoded data removed]"
    }
   },
   "cell_type": "markdown",
   "id": "bc892e90",
   "metadata": {},
   "source": [
    "![insa.jpg](attachment:insa.jpg)\n",
    "# P2I7: Chapitre 2 méthodes numériques\n",
    "## Principe d'approximation d'une EDO par un schéma numérique\n",
    "Camille Carvalho (INSA/ICJ)"
   ]
  },
  {
   "cell_type": "code",
   "execution_count": 1,
   "id": "55c3bf0e",
   "metadata": {},
   "outputs": [],
   "source": [
    "#libraries à importer\n",
    "%matplotlib inline \n",
    "#permet l'affichage des figures dans le corps du notebook\n",
    "from matplotlib import pyplot as plt #librairie d'affichage\n",
    "import numpy as np #librairie pour le calcul numérique\n",
    "import sympy as sp #libraire pour le calcul symbolique"
   ]
  },
  {
   "cell_type": "markdown",
   "id": "dd3fa08b",
   "metadata": {},
   "source": [
    "Pendant cette séance on considère le problème de Cauchy correspondant au pendule non amorti (linéarisé autour de l'état d'équilibre) :\n",
    "$$\n",
    "   \\ddot{\\theta}(t) = -\\frac{g}{\\ell}\\theta(t), ~~~\\mbox{ pour } t \\ge 0, \\quad \\theta(0) = \\alpha, ~~ \\dot{\\theta}(0) = 0,\n",
    "$$\n",
    "où $\\alpha$ est l'angle initial auquel on lâche le pendule à l'instant initial $t=0$ avec une vitesse nulle.\n",
    "\n",
    "\n",
    "On souhaite approcher numériquement la solution de ce problème de Cauchy. Pour cela on va se fixer un $\\Delta t > 0$ un pas de temps donné, $T > 0$ un temps de simulation avec $T = N\\Delta t$, pour $N$ un entier, et on va poser\n",
    "$$ t_i = i\\Delta t ~~~\\mbox{ pour } 0 \\le i \\le N. $$\n",
    "On teste ici 3 schémas:\n",
    "- Euler explicite\n",
    "- Euler implicite\n",
    "- Verlet"
   ]
  },
  {
   "cell_type": "markdown",
   "id": "9631877a",
   "metadata": {},
   "source": [
    "# Section 2.1 Schéma d'Euler explicite\n",
    "**Question 1.** Remettez le problème de Cauchy ci-dessus sous la forme d'un système d'ordre 1 et écrivez le schéma d'Euler explicite dessus. Déduisez-en la règle qui fait passer de $\\theta_i, \\dot{\\theta}_i$ à $\\theta_{i+1}, \\dot{\\theta}_{i+1}$."
   ]
  },
  {
   "cell_type": "code",
   "execution_count": null,
   "id": "d0aa3f1d",
   "metadata": {},
   "outputs": [],
   "source": []
  },
  {
   "cell_type": "markdown",
   "id": "e16f46b6",
   "metadata": {},
   "source": [
    "**Question 2.** Programmer les itérations de ce schéma en Python et visualiser les solutions pour $\\ell = 1$, $g = 10$, $\\alpha=1$ et $T=10$."
   ]
  },
  {
   "cell_type": "code",
   "execution_count": 2,
   "id": "42814526",
   "metadata": {},
   "outputs": [
    {
     "data": {
      "application/vnd.jupyter.widget-view+json": {
       "model_id": "43a92e8419384105895257a4811ad634",
       "version_major": 2,
       "version_minor": 0
      },
      "text/plain": [
       "interactive(children=(IntSlider(value=10, description='N', max=100010, min=10, step=10000), Output()), _dom_cl…"
      ]
     },
     "metadata": {},
     "output_type": "display_data"
    }
   ],
   "source": [
    "α = 1\n",
    "l = 1\n",
    "g = 10\n",
    "T = 10\n",
    "#nombre de points\n",
    "from ipywidgets import interact\n",
    "@interact\n",
    "def interact_plot(N:(10, 100010, 10000) = 10):\n",
    "#N = 10000 # a changer selon votre gout !\n",
    "    Δt = T/N\n",
    "#pour faire une fonction\n",
    "#f = lambda x: np.sin(x)\n",
    "#f(0)\n",
    "    F = np.zeros((2,2))\n",
    "    F[0][1] = 1\n",
    "    F[1][0] = -g/l\n",
    "    Y = np.zeros((2,N))\n",
    "    t = np.zeros(N)\n",
    "    energie = np.zeros(N)\n",
    "    Y[:,0] = [α, 0]\n",
    "    energie[0] = .5*(Y[1,0]**2 + g/l*Y[0,0]**2)\n",
    "\n",
    "    for i in range(1,N):\n",
    "        t[i] = i*Δt\n",
    "        Y[:,i] = Y[:,i-1] + Δt*F@Y[:,i-1]\n",
    "        energie[i]  = .5*(Y[1,i]**2 + g/l*Y[0,i]**2)\n",
    "        \n",
    "    fig, (ax, ax1) = plt.subplots(1, 2, figsize = (10,5))\n",
    "    ax.plot(t, Y[0,:], label = 'solution')\n",
    "    ax.set_xlabel('t')\n",
    "    ax.set_ylabel('y(t)')\n",
    "    ax.legend()\n",
    "\n",
    "    ax1.plot(t, energie, label = 'energie')\n",
    "    ax1.set_xlabel('t')\n",
    "    ax1.set_ylabel('E(t)')\n",
    "    ax1.legend()"
   ]
  },
  {
   "cell_type": "markdown",
   "id": "5a8106e4",
   "metadata": {},
   "source": [
    "**Question 3.** L'énergie totale du système au pas de temps $i$ s'écrit\n",
    "    $$ \\frac{1}{2}  (\\dot{\\theta}_i)^2 + \\frac{g}{2\\ell}\\theta_i^2. $$\n",
    "    Le pendule étant non-amorti, cette énergie doit se conserver au cours\n",
    "    du temps. Dessinez l'évolution de l'énergie totale au cours du temps.\n",
    "    Que remarquez-vous ?"
   ]
  },
  {
   "cell_type": "code",
   "execution_count": 3,
   "id": "f62499e1",
   "metadata": {},
   "outputs": [
    {
     "data": {
      "text/plain": [
       "array([  1.,   4.,   9.,  16.,  25.,  36.,  49.,  64.,  81., 100.])"
      ]
     },
     "execution_count": 3,
     "metadata": {},
     "output_type": "execute_result"
    }
   ],
   "source": [
    "x = np.linspace(1,10,10)\n",
    "x**2"
   ]
  },
  {
   "cell_type": "code",
   "execution_count": 5,
   "id": "00724e76",
   "metadata": {},
   "outputs": [
    {
     "ename": "NameError",
     "evalue": "name 'Y' is not defined",
     "output_type": "error",
     "traceback": [
      "\u001b[0;31m---------------------------------------------------------------------------\u001b[0m",
      "\u001b[0;31mNameError\u001b[0m                                 Traceback (most recent call last)",
      "Cell \u001b[0;32mIn[5], line 4\u001b[0m\n\u001b[1;32m      2\u001b[0m Δt \u001b[38;5;241m=\u001b[39m T\u001b[38;5;241m/\u001b[39mN\n\u001b[1;32m      3\u001b[0m energie \u001b[38;5;241m=\u001b[39m np\u001b[38;5;241m.\u001b[39mzeros(N)\n\u001b[0;32m----> 4\u001b[0m energie  \u001b[38;5;241m=\u001b[39m \u001b[38;5;241m.5\u001b[39m\u001b[38;5;241m*\u001b[39m(\u001b[43mY\u001b[49m[\u001b[38;5;241m1\u001b[39m,:]\u001b[38;5;241m*\u001b[39m\u001b[38;5;241m*\u001b[39m\u001b[38;5;241m2\u001b[39m \u001b[38;5;241m+\u001b[39m g\u001b[38;5;241m/\u001b[39ml\u001b[38;5;241m*\u001b[39mY[\u001b[38;5;241m0\u001b[39m,:]\u001b[38;5;241m*\u001b[39m\u001b[38;5;241m*\u001b[39m\u001b[38;5;241m2\u001b[39m)\n\u001b[1;32m      5\u001b[0m fig, ax \u001b[38;5;241m=\u001b[39m plt\u001b[38;5;241m.\u001b[39msubplots(\u001b[38;5;241m1\u001b[39m, \u001b[38;5;241m1\u001b[39m, figsize \u001b[38;5;241m=\u001b[39m (\u001b[38;5;241m5\u001b[39m,\u001b[38;5;241m5\u001b[39m))\n\u001b[1;32m      6\u001b[0m ax\u001b[38;5;241m.\u001b[39mplot(t, energie, label \u001b[38;5;241m=\u001b[39m \u001b[38;5;124m'\u001b[39m\u001b[38;5;124menergie\u001b[39m\u001b[38;5;124m'\u001b[39m)\n",
      "\u001b[0;31mNameError\u001b[0m: name 'Y' is not defined"
     ]
    }
   ],
   "source": [
    "N = 100\n",
    "Δt = T/N\n",
    "energie = np.zeros(N)\n",
    "energie  = .5*(Y[1,:]**2 + g/l*Y[0,:]**2)\n",
    "fig, ax = plt.subplots(1, 1, figsize = (5,5))\n",
    "ax.plot(t, energie, label = 'energie')\n",
    "ax.set_xlabel('t')\n",
    "ax.set_ylabel('E(t)')\n",
    "ax.legend()"
   ]
  },
  {
   "cell_type": "markdown",
   "id": "d3de54bc",
   "metadata": {},
   "source": [
    "Remarquez que l'on peut éliminer la vitesse $\\dot{\\theta}_i$ (en soustrayant à la première ligne du schéma la m\\^eme première ligne écrite au pas $i-1$). On obtient alors\n",
    "$$ \\theta_{i+1} - 2\\theta_i + \\theta_{i-1} = -({\\Delta t})^2 \\frac{g}{\\ell}\\theta_{i-1}. $$\n",
    "Cela peut être intéressant, mais il s'agit d'un schéma à **deux pas** ($\\theta_{i+1}$ est donné en fonction de $\\theta_i$ et $\\theta_{i-1}$). En pratique, il faudra d'abord calculer $\\theta_1$ avec le schéma à un pas avant de pouvoir l'utiliser."
   ]
  },
  {
   "cell_type": "markdown",
   "id": "fe55015d",
   "metadata": {},
   "source": [
    "# Section 2.2 Schéma d'Euler implicite \n",
    "On considère maintenant le schéma\n",
    "$$ Y_{i+1} = Y_{i} + {\\Delta t}F(t_{i+1}, Y_{i+1}). $$"
   ]
  },
  {
   "cell_type": "markdown",
   "id": "2929b15a",
   "metadata": {},
   "source": [
    "**Question 1.** En réutilisant le problème ci-dessus sous la forme d'un système d'ordre 1, écrivez le schéma d'Euler implicite associé. Déterminer ce qui est à résoudre à chaque pas de temps."
   ]
  },
  {
   "cell_type": "code",
   "execution_count": null,
   "id": "cc3b6124",
   "metadata": {},
   "outputs": [],
   "source": []
  },
  {
   "cell_type": "markdown",
   "id": "2c9e098c",
   "metadata": {},
   "source": [
    "**Question 2.** Adaptez votre programme Python au schéma d'Euler implicite. Pour cela, trouvez l'équation que doit résoudre $\\theta_{i+1}$. Pour notre problème, cette équation est linéaire et peut donc être résolue à la main. Ce ne sera pas le cas avec des problèmes non-linéaires. Visualisez la solution."
   ]
  },
  {
   "cell_type": "code",
   "execution_count": null,
   "id": "7730b4a0",
   "metadata": {},
   "outputs": [],
   "source": []
  },
  {
   "cell_type": "markdown",
   "id": "40e34589",
   "metadata": {},
   "source": [
    "**Question 3.** Dessinez également l'évolution de l'énergie totale au cours du temps.\n",
    "  Que remarquez-vous comme différence avec le schéma d'Euler explicite ?"
   ]
  },
  {
   "cell_type": "code",
   "execution_count": null,
   "id": "85af846e",
   "metadata": {},
   "outputs": [],
   "source": []
  },
  {
   "cell_type": "markdown",
   "id": "1a90e80d",
   "metadata": {},
   "source": [
    "  \n",
    "Vous pourrez remarquer que l'on peut toujours éliminer la vitesse $\\dot{\\theta}_i$ et que l'on arrive au schéma à **deux pas**\n",
    "  $$ \\theta_{i+1} - 2\\theta_i + \\theta_{i-1} = -({\\Delta t})^2 \\frac{g}{\\ell}\\theta_{i+1}. $$"
   ]
  },
  {
   "cell_type": "markdown",
   "id": "d8c094e8",
   "metadata": {},
   "source": [
    "# Section 2.3 Schéma de Verlet\n",
    "**Question 1.** Adaptez votre programme Matlab au schéma de Verlet et visualiser la solutions ainsi que l'évolution de l'énergie totale. Que remarquez-vous ?"
   ]
  },
  {
   "cell_type": "code",
   "execution_count": 12,
   "id": "60e0fa1e",
   "metadata": {},
   "outputs": [
    {
     "data": {
      "text/plain": [
       "<matplotlib.legend.Legend at 0x12a138a90>"
      ]
     },
     "execution_count": 12,
     "metadata": {},
     "output_type": "execute_result"
    },
    {
     "data": {
      "image/png": "[encoded data removed]",
      "text/plain": [
       "<Figure size 720x360 with 2 Axes>"
      ]
     },
     "metadata": {
      "needs_background": "light"
     },
     "output_type": "display_data"
    }
   ],
   "source": [
    "α = 1\n",
    "l = 1\n",
    "g = 10\n",
    "T = 10\n",
    "N = 10000\n",
    "Δt = T/N\n",
    "F = np.zeros((2,2))\n",
    "F[0][1] = 1\n",
    "F[1][0] = -g/l\n",
    "Y = np.zeros((2,N))\n",
    "t = np.zeros(N)\n",
    "energie = np.zeros(N)\n",
    "Y[:,0] = [α, 0]\n",
    "energie[0] = .5*(Y[1,0]**2 + g/l*Y[0,0]**2)\n",
    "\n",
    "for i in range(1,N):\n",
    "    t[i] = i*Δt\n",
    "    Y[0,i] = Y[0,i-1] + Δt*Y[1,i-1] - g/l*(Δt**2/2)*Y[0,i-1]\n",
    "    Y[1,i] = Y[1,i-1] -g/l*(Δt/2)*(Y[0,i-1] + Y[0,i])\n",
    "    energie[i]  = .5*(Y[1,i]**2 + g/l*Y[0,i]**2)\n",
    "        \n",
    "fig, (ax, ax1) = plt.subplots(1, 2, figsize = (10,5))\n",
    "ax.plot(t, Y[0,:], label = 'solution')\n",
    "ax.set_xlabel('t')\n",
    "ax.set_ylabel('y(t)')\n",
    "ax.legend()\n",
    "\n",
    "ax1.plot(t, energie, label = 'energie')\n",
    "ax1.set_xlabel('t')\n",
    "ax1.set_ylabel('E(t)')\n",
    "#ax1.set_ylim([6, 4])\n",
    "ax1.legend()"
   ]
  },
  {
   "cell_type": "markdown",
   "id": "35f914a3",
   "metadata": {},
   "source": [
    "Vous pourrez remarquer que l'on peut toujours éliminer la vitesse $\\dot{\\theta}_i$ et que l'on arrive au schéma à {\\bf deux pas}\n",
    "$$ \\theta_{i+1} - 2\\theta_i + \\theta_{i-1} = -({\\Delta t})^2 \\frac{g}{\\ell}\\theta_{i}. $$\n",
    "  Il s'agit donc d'un schéma explicite qui est en un certain sens intermédiaire entre le schéma d'Euler explicite de celui d'Euler implicite."
   ]
  }
 ],
 "metadata": {
  "kernelspec": {
   "display_name": "Python 3 (ipykernel)",
   "language": "python",
   "name": "python3"
  },
  "language_info": {
   "codemirror_mode": {
    "name": "ipython",
    "version": 3
   },
   "file_extension": ".py",
   "mimetype": "text/x-python",
   "name": "python",
   "nbconvert_exporter": "python",
   "pygments_lexer": "ipython3",
   "version": "3.9.10"
  }
 },
 "nbformat": 4,
 "nbformat_minor": 5
}
