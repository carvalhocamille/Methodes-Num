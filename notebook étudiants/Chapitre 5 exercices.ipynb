{
 "cells": [
  {
   "attachments": {
    "insa.jpg": {
     "image/jpeg": "[encoded data removed]"
    }
   },
   "cell_type": "markdown",
   "id": "d7532552",
   "metadata": {},
   "source": [
    "![insa.jpg](attachment:insa.jpg)\n",
    "# P2I7: Chapitre 5 méthodes numériques\n",
    "## Convergence des schémas numériques pour les EDOs\n",
    "Camille Carvalho (INSA/ICJ)"
   ]
  },
  {
   "cell_type": "code",
   "execution_count": 1,
   "id": "71c07944",
   "metadata": {},
   "outputs": [],
   "source": [
    "#libraries to import\n",
    "%matplotlib inline\n",
    "from matplotlib import pyplot as plt\n",
    "import numpy as np\n",
    "import sympy as sp"
   ]
  },
  {
   "cell_type": "markdown",
   "id": "71eb0dab",
   "metadata": {},
   "source": [
    "On regarde toujours le système de masses de la séance précédente \n",
    "\n",
    "$$ \\ddot{U}(t) + KU(t) = 0, $$\n",
    "avec \n",
    "$$ K = \\begin{bmatrix}\n",
    " 2 & -1 & 0 & 0 & 0 \\\\\n",
    " -1 & 2 & -1 & 0 & 0 \\\\\n",
    " 0 & -1 & 2 & -1 & 0 \\\\\n",
    " 0 & 0 & -1 & 2 & -1 \\\\\n",
    " 0 & 0 & 0 & -1 & 2\n",
    "\\end{bmatrix}, \\quad \\quad U(t) = \\begin{pmatrix} {u_1(t)} \\\\ {u_2(t)} \\\\ {u_3(t)}\\\\ {u_4(t)}\\\\{u_5(t)} \\end{pmatrix} $$\n",
    "Pour pouvoir estimer la convergence des schémas numériques sur ce problème, nous allons calculer la solution de ce problème à la main. Pour cela, remarquons que les valeurs propres de la matrice $K$ sont $\\lambda_1 = 1, \\lambda_2 = 2, \\lambda_3 = 3, \\lambda_4 = 2-\\sqrt{3}, \\lambda_5 = 2+\\sqrt{3}$ et les vecteurs propres correspondants\n",
    "$$ \n",
    "W_1 = \\begin{pmatrix} 1 \\\\ 1 \\\\ 0\\\\ -1\\\\-1 \\end{pmatrix}, \\quad  \n",
    "W_2 = \\begin{pmatrix} 1 \\\\ 0 \\\\ -1\\\\ 0\\\\1 \\end{pmatrix}, \\quad\n",
    "W_3 = \\begin{pmatrix} -1 \\\\ 1 \\\\ 0\\\\ -1\\\\1 \\end{pmatrix}, \\quad\n",
    "W_4 = \\begin{pmatrix} 1 \\\\ \\sqrt{3} \\\\ 2\\\\ \\sqrt{3}\\\\1 \\end{pmatrix}, \\quad\n",
    "W_5 = \\begin{pmatrix} 1 \\\\ -\\sqrt{3} \\\\ 2\\\\ \\sqrt{3}\\\\1 \\end{pmatrix}.\n",
    "$$\n",
    "Si on développe la solution sur les vecteurs propres en écrivant\n",
    "$$ U(t) = \\sum_{i=1}^5 \\beta_i(t) W_i, $$\n",
    "alors chaque composante $\\beta_i(t)$ vérifie\n",
    "$$ \\ddot{\\beta}_i(t) + \\lambda_i \\beta_i(t) = 0. $$\n",
    "Et l'on trouve donc\n",
    "$$ \\beta_i(t) = c_i \\sin(\\sqrt{\\lambda_i} t) + d_i \\cos(\\sqrt{\\lambda_i} t), $$\n",
    "où les $c_i$ et $d_i$ sont déterminés par la condition initiale. La condition initiale\n",
    "$$ u_1(0) = 1, ~~u_2(0) = 0.9\\sqrt{3}, ~~u_3(0) = 2, ~~u_4(0) = 0.9\\sqrt{3}, ~~u_5(0) = 1, $$\n",
    "$$ \\dot{u}_1(0) = \\dot{u}_2(0) = \\dot{u}_3(0) = \\dot{u}_4(0) =  \\dot{u}_5(0) = 0. $$\n",
    "correspond à $d_4 = 0.95$ et $d_5 = 0.05$ et tous les autres coefficients nuls. La solution s'écrit donc\n",
    "$$ U(t) = 0.95\\cos(\\sqrt{\\lambda_4}t)W_4 +  0.05\\cos(\\sqrt{\\lambda_5}t)W_5. $$"
   ]
  },
  {
   "cell_type": "markdown",
   "id": "6fcbf0ae",
   "metadata": {},
   "source": [
    "**Question 1.** Ajoutez dans votre programme de la séance précédente une partie qui calcule la solution exacte à chaque pas de temps et la différence en norme euclidienne avec la solution approchée. Calculer le maximum de cette différence sur tous les pas de temps. "
   ]
  },
  {
   "cell_type": "code",
   "execution_count": null,
   "id": "89ecb5d2",
   "metadata": {},
   "outputs": [],
   "source": []
  },
  {
   "cell_type": "markdown",
   "id": "bc2c007e",
   "metadata": {},
   "source": [
    "**Question 2.** Pour un temps de simulation $T=10$, notez l'évolution de cette erreur maximale en fonction du pas de temps pour la méthode d'Euler implicite (vous pourrez prendre les valeurs de $\\Delta t$ suivantes : 1/2, 1/4, 1/8, 1/16, 1/32, 1/64). Faites un graphique en échelle logarithmique (voir la commande ``loglog`` de matplotlib) de cette évolution. Quelle est la pente approximative de la courbe obtenue ?"
   ]
  },
  {
   "cell_type": "code",
   "execution_count": null,
   "id": "85038946",
   "metadata": {},
   "outputs": [],
   "source": []
  },
  {
   "cell_type": "markdown",
   "id": "c016c45d",
   "metadata": {},
   "source": [
    "**Question 3.** Refaites cette expérience pour la méthode d'Euler explicite et la méthode de Crank-Nicolson."
   ]
  },
  {
   "cell_type": "code",
   "execution_count": null,
   "id": "4f9c3e5f",
   "metadata": {},
   "outputs": [],
   "source": []
  },
  {
   "cell_type": "markdown",
   "id": "668248fe",
   "metadata": {},
   "source": [
    "**Question 4.** Implémentez le schéma de Verlet et le schéma RK4 et comparez. Quelles sont les conditions de stabilité pour ces deux schémas ? (a-stabilité pour RK4)."
   ]
  },
  {
   "cell_type": "code",
   "execution_count": null,
   "id": "3ba25145",
   "metadata": {},
   "outputs": [],
   "source": []
  },
  {
   "cell_type": "markdown",
   "id": "d9cad3fb",
   "metadata": {},
   "source": [
    "**Question 5.** Faites une simulation avec un $T$ grand et un pas de temps assez grand ($T = 40$, $\\Delta t$ = 1/2, par exemple) en dessinant l'évolution de l'énergie. Commentez et comparez aux valeurs théoriques de stabilité."
   ]
  },
  {
   "cell_type": "code",
   "execution_count": null,
   "id": "b7f9cf51",
   "metadata": {},
   "outputs": [],
   "source": []
  }
 ],
 "metadata": {
  "kernelspec": {
   "display_name": "Python 3 (ipykernel)",
   "language": "python",
   "name": "python3"
  },
  "language_info": {
   "codemirror_mode": {
    "name": "ipython",
    "version": 3
   },
   "file_extension": ".py",
   "mimetype": "text/x-python",
   "name": "python",
   "nbconvert_exporter": "python",
   "pygments_lexer": "ipython3",
   "version": "3.9.10"
  }
 },
 "nbformat": 4,
 "nbformat_minor": 5
}
